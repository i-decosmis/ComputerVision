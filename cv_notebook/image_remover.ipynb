{
 "cells": [
  {
   "attachments": {},
   "cell_type": "markdown",
   "metadata": {},
   "source": [
    "Importing libraries"
   ]
  },
  {
   "cell_type": "code",
   "execution_count": null,
   "metadata": {},
   "outputs": [],
   "source": [
    "import os\n",
    "from PIL import Image\n"
   ]
  },
  {
   "attachments": {},
   "cell_type": "markdown",
   "metadata": {},
   "source": [
    "Defining functions"
   ]
  },
  {
   "cell_type": "code",
   "execution_count": null,
   "metadata": {},
   "outputs": [],
   "source": [
    "def check_image(image_path):\n",
    "    with Image.open(image_path) as img:\n",
    "        return all(pixel == (0, 0, 0) for pixel in img.getdata())\n",
    "\n",
    "\n",
    "def delete_black_images(directory):\n",
    "    for filename in os.listdir(directory):\n",
    "        if filename.endswith(\".jpg\") or filename.endswith(\".png\"):\n",
    "            file_path = os.path.join(directory, filename)\n",
    "            if check_image(file_path):\n",
    "                os.remove(file_path)\n",
    "                file_path = os.path.join(direcotry_ndvi, filename)\n",
    "                os.remove(file_path)\n",
    "                filename = os.path.splitext(filename)[0]\n",
    "                filename = folder+\"_\"+filename+\"_GroundTruth_iMap.png\"\n",
    "                file_path = os.path.join(directory_grountruth, filename)\n",
    "                os.remove(file_path)\n",
    "                print(\"Image\", filename, \" deleted.\")"
   ]
  },
  {
   "attachments": {},
   "cell_type": "markdown",
   "metadata": {},
   "source": [
    "Defining parameters and launching the program"
   ]
  },
  {
   "cell_type": "code",
   "execution_count": null,
   "metadata": {},
   "outputs": [],
   "source": [
    "folder = \"004\"\n",
    "directory_rgb = \"RedEdge/\"+folder+\"/tile/RGB\"\n",
    "direcotry_ndvi = \"RedEdge/\"+folder+\"/tile/NDVI\"\n",
    "directory_grountruth = \"RedEdge/\"+folder+\"/groundtruth\"\n",
    "delete_black_images(directory_rgb)"
   ]
  }
 ],
 "metadata": {
  "kernelspec": {
   "display_name": "Python 3",
   "language": "python",
   "name": "python3"
  },
  "language_info": {
   "name": "python",
   "version": "3.10.6"
  },
  "orig_nbformat": 4
 },
 "nbformat": 4,
 "nbformat_minor": 2
}
